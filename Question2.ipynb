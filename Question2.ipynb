{
 "cells": [
  {
   "cell_type": "code",
   "execution_count": 36,
   "metadata": {},
   "outputs": [
    {
     "name": "stdout",
     "output_type": "stream",
     "text": [
      "+--------------------+------------------+\n",
      "|             Product|       Total Sales|\n",
      "+--------------------+------------------+\n",
      "|    Wired Headphones| 246466.4355392456|\n",
      "|  Macbook Pro Laptop|         8037600.0|\n",
      "|Apple Airpods Hea...|         2349150.0|\n",
      "|              iPhone|         4794300.0|\n",
      "|Lightning Chargin...|347094.14547920227|\n",
      "|Bose SoundSport H...|1345565.4012680054|\n",
      "|USB-C Charging Cable|286489.29527664185|\n",
      "|AAA Batteries (4-...| 92740.83064889908|\n",
      "|        20in Monitor| 454148.7011795044|\n",
      "|    27in FHD Monitor|1132424.5414733887|\n",
      "|     Vareebadd Phone|          827200.0|\n",
      "|34in Ultrawide Mo...|2355557.9494628906|\n",
      "|            LG Dryer|          387600.0|\n",
      "|AA Batteries (4-p...|106114.55847167969|\n",
      "|        Google Phone|         3319200.0|\n",
      "|       Flatscreen TV|         1445700.0|\n",
      "|  LG Washing Machine|          399600.0|\n",
      "|27in 4K Gaming Mo...|2435097.4990234375|\n",
      "|     ThinkPad Laptop|4129958.6596679688|\n",
      "+--------------------+------------------+\n",
      "\n"
     ]
    }
   ],
   "source": [
    "from pyspark.sql import SparkSession\n",
    "from pyspark.sql.functions import col,isnan,when,count,mean,sum\n",
    "\n",
    "spark = SparkSession.builder.appName(\"Q2\").getOrCreate()\n",
    "\n",
    "df = spark.read.csv(\"Sales Data.csv\",header=True,inferSchema=True)\n",
    "\n",
    "\"\"\"\n",
    "\n",
    "null_df = df.select(\n",
    "    [\n",
    "        count(when(col(c).isNull() | (col(c)==\"\") | isnan(c),c)).alias(c)\n",
    "        for c in df.columns\n",
    "    ]\n",
    ")\n",
    "\n",
    "null_df.show()\n",
    "\n",
    "\"\"\"\n",
    "\n",
    "\n",
    "# df = df.fillna({'Sales': df.agg(mean('Sales')).first()[0]}) \\\n",
    "#        .fillna({'Quantity Ordered': df.agg(mean('Quantity Ordered')).first()[0]})\n",
    "\n",
    "df = df.filter(col(\"Sales\")>0 )\n",
    "\n",
    "df.dropDuplicates()\n",
    "\n",
    "\n",
    "df = df.withColumn(\"Sales\", col(\"Sales\").cast(\"float\"))\n",
    "df = df.withColumn(\"Quantity Ordered\", col(\"Quantity Ordered\").cast(\"int\"))\n",
    "\n",
    "\n",
    "# Q4\n",
    "df = df.filter((col(\"Sales\")>=0) | (col(\"Price Each\")>=0) | (col(\"Quantity Ordered\")>=0))\n",
    "\n",
    "\n",
    "# Q5\n",
    "total_sales_per_product = df.groupBy(\"Product\").agg(sum(\"Sales\").alias(\"Total Sales\"))\n",
    "\n",
    "total_sales_per_product.show()\n",
    "\n",
    "spark.stop()"
   ]
  }
 ],
 "metadata": {
  "kernelspec": {
   "display_name": "universal",
   "language": "python",
   "name": "python3"
  },
  "language_info": {
   "codemirror_mode": {
    "name": "ipython",
    "version": 3
   },
   "file_extension": ".py",
   "mimetype": "text/x-python",
   "name": "python",
   "nbconvert_exporter": "python",
   "pygments_lexer": "ipython3",
   "version": "3.9.19"
  }
 },
 "nbformat": 4,
 "nbformat_minor": 2
}
